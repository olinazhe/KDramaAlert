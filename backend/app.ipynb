{
 "cells": [
  {
   "cell_type": "code",
   "execution_count": 4,
   "metadata": {},
   "outputs": [],
   "source": [
    "import json\n",
    "import os\n",
    "from flask import Flask, render_template, request\n",
    "from flask_cors import CORS\n",
    "# from helpers.similarity import get_title_sim, cossim_scores\n",
    "from helpers import preprocessing, similarity\n",
    "import pandas as pd\n",
    "from collections import defaultdict"
   ]
  },
  {
   "cell_type": "code",
   "execution_count": 5,
   "metadata": {},
   "outputs": [],
   "source": [
    "\n",
    "with open(\"init.json\", 'r') as file:\n",
    "    data = json.load(file)\n",
    "    kdramas_df = pd.DataFrame(data)\n"
   ]
  },
  {
   "cell_type": "code",
   "execution_count": null,
   "metadata": {},
   "outputs": [
    {
     "name": "stdout",
     "output_type": "stream",
     "text": [
      "[(9, 1), (152, 1), (168, 1), (195, 1), (266, 1), (290, 1), (507, 1), (697, 2), (717, 2), (784, 1), (1232, 2), (1457, 1), (1511, 1), (1570, 1), (1617, 1)]\n",
      "squid\n"
     ]
    },
    {
     "data": {
      "text/plain": [
       "[]"
      ]
     },
     "execution_count": 12,
     "metadata": {},
     "output_type": "execute_result"
    }
   ],
   "source": [
    "def cossim_search(query):\n",
    "    inv_idx = preprocessing.build_inverted_index(kdramas_df['synopsis'])\n",
    "    idf_dict = preprocessing.compute_idf(inv_idx, len(kdramas_df['synopsis']))\n",
    "    doc_norms = preprocessing.compute_doc_norms(inv_idx, idf_dict, len(kdramas_df['synopsis']))\n",
    "    scores = similarity.index_search(query, inv_idx, idf_dict, doc_norms)\n",
    "    doc_ids = [doc_id for _, doc_id in scores]\n",
    "    ranked_docs = kdramas_df.iloc[doc_ids]\n",
    "    matches_filtered = ranked_docs if not ranked_docs.empty else kdramas_df\n",
    "    matches_filtered_json = matches_filtered.to_json(orient='records')\n",
    "    return [(score, kdramas_df.iloc[id][\"name\"]) for score, id in scores]\n",
    "\n",
    "cossim_search(\"squid\")"
   ]
  }
 ],
 "metadata": {
  "kernelspec": {
   "display_name": "cs4300",
   "language": "python",
   "name": "python3"
  },
  "language_info": {
   "codemirror_mode": {
    "name": "ipython",
    "version": 3
   },
   "file_extension": ".py",
   "mimetype": "text/x-python",
   "name": "python",
   "nbconvert_exporter": "python",
   "pygments_lexer": "ipython3",
   "version": "3.12.9"
  }
 },
 "nbformat": 4,
 "nbformat_minor": 2
}
