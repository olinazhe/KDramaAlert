{
 "cells": [
  {
   "cell_type": "code",
   "execution_count": 1,
   "metadata": {},
   "outputs": [],
   "source": [
    "import json\n",
    "import os\n",
    "from flask import Flask, render_template, request\n",
    "from flask_cors import CORS\n",
    "# from helpers.similarity import get_title_sim, cossim_scores\n",
    "from helpers import preprocessing, similarity\n",
    "import pandas as pd\n",
    "from collections import defaultdict"
   ]
  },
  {
   "cell_type": "code",
   "execution_count": 2,
   "metadata": {},
   "outputs": [],
   "source": [
    "\n",
    "with open(\"init.json\", 'r') as file:\n",
    "    data = json.load(file)\n",
    "    kdramas_df = pd.DataFrame(data)\n"
   ]
  },
  {
   "cell_type": "code",
   "execution_count": 3,
   "metadata": {},
   "outputs": [
    {
     "data": {
      "text/plain": [
       "[]"
      ]
     },
     "execution_count": 3,
     "metadata": {},
     "output_type": "execute_result"
    }
   ],
   "source": [
    "def cossim_search(query):\n",
    "    inv_idx = preprocessing.build_inverted_index(kdramas_df['synopsis'])\n",
    "    idf_dict = preprocessing.compute_idf(inv_idx, len(kdramas_df['synopsis']))\n",
    "    doc_norms = preprocessing.compute_doc_norms(inv_idx, idf_dict, len(kdramas_df['synopsis']))\n",
    "    scores = similarity.index_search(query, inv_idx, idf_dict, doc_norms)\n",
    "    doc_ids = [doc_id for _, doc_id in scores]\n",
    "    ranked_docs = kdramas_df.iloc[doc_ids]\n",
    "    matches_filtered = ranked_docs if not ranked_docs.empty else kdramas_df\n",
    "    matches_filtered_json = matches_filtered.to_json(orient='records')\n",
    "    return [(score, kdramas_df.iloc[id][\"name\"]) for score, id in scores]\n",
    "\n",
    "cossim_search(\"squid\")"
   ]
  },
  {
   "cell_type": "code",
   "execution_count": 20,
   "metadata": {},
   "outputs": [
    {
     "name": "stdout",
     "output_type": "stream",
     "text": [
      "(1647, 100)\n",
      "(100,)\n",
      "(100, 10651)\n"
     ]
    }
   ],
   "source": [
    "from scipy.sparse.linalg import svds\n",
    "from sklearn.feature_extraction.text import TfidfVectorizer\n",
    "vectorizer = TfidfVectorizer(stop_words = 'english', max_df = .8,\n",
    "                            min_df = 1)\n",
    "td_matrix = vectorizer.fit_transform(kdramas_df[\"synopsis\"])\n",
    "u, s, v_trans = svds(td_matrix, k=100)\n",
    "print(u.shape)\n",
    "print(s.shape)\n",
    "print(v_trans.shape)"
   ]
  },
  {
   "cell_type": "code",
   "execution_count": 21,
   "metadata": {},
   "outputs": [
    {
     "data": {
      "image/png": "[encoded data removed]",
      "text/plain": [
       "<Figure size 640x480 with 1 Axes>"
      ]
     },
     "metadata": {},
     "output_type": "display_data"
    }
   ],
   "source": [
    "import matplotlib\n",
    "import numpy as np\n",
    "import matplotlib.pyplot as plt\n",
    "%matplotlib inline\n",
    "plt.plot(s[::-1])\n",
    "plt.xlabel(\"Singular value number\")\n",
    "plt.ylabel(\"Singular value\")\n",
    "plt.show()"
   ]
  },
  {
   "cell_type": "code",
   "execution_count": 22,
   "metadata": {},
   "outputs": [],
   "source": [
    "docs_compressed, s, words_compressed = svds(td_matrix, k=40)\n",
    "words_compressed = words_compressed.transpose()"
   ]
  },
  {
   "cell_type": "code",
   "execution_count": 23,
   "metadata": {},
   "outputs": [
    {
     "name": "stdout",
     "output_type": "stream",
     "text": [
      "Non-zero entries in query_tfidf: 1\n",
      "(1572, A Tale of Two Sisters, 0.7301)\n",
      "(769, Twenty Years Old, 0.6340)\n",
      "(16, Navillera, 0.6163)\n",
      "(1280, Young Lady and Gentleman, 0.6123)\n",
      "(1165, People You May Know, 0.6042)\n"
     ]
    }
   ],
   "source": [
    "word_to_index = vectorizer.vocabulary_\n",
    "index_to_word = {i:t for t,i in word_to_index.items()}\n",
    "#row normalize\n",
    "from sklearn.preprocessing import normalize\n",
    "words_compressed_normed = normalize(words_compressed, axis = 1)\n",
    "# cosine similarity\n",
    "def closest_words(word_in, words_representation_in, k = 10):\n",
    "    if word_in not in word_to_index: return \"Not in vocab.\"\n",
    "    sims = words_representation_in.dot(words_representation_in[word_to_index[word_in],:])\n",
    "    asort = np.argsort(-sims)[:k+1]\n",
    "    return [(index_to_word[i],sims[i]) for i in asort[1:]]\n",
    "td_matrix_np = td_matrix.transpose()\n",
    "td_matrix_np = normalize(td_matrix_np)\n",
    "\n",
    "\n",
    "query = \"guitar\"\n",
    "query_tfidf = vectorizer.transform([query]).toarray()\n",
    "print(\"Non-zero entries in query_tfidf:\", np.count_nonzero(query_tfidf))\n",
    "\n",
    "query_vec = normalize(np.dot(query_tfidf, words_compressed)).squeeze()\n",
    "\n",
    "docs_compressed_normed = normalize(docs_compressed)\n",
    "def closest_projects_to_query(query_vec_in, k = 5):\n",
    "    sims = docs_compressed_normed.dot(query_vec_in)\n",
    "    asort = np.argsort(-sims)[:k+1]\n",
    "    return [(i, kdramas_df.iloc[i][\"name\"],sims[i]) for i in asort[1:]]\n",
    "\n",
    "for i, proj, sim in closest_projects_to_query(query_vec):\n",
    "    print(\"({}, {}, {:.4f})\".format(i, proj, sim))\n"
   ]
  },
  {
   "cell_type": "code",
   "execution_count": null,
   "metadata": {},
   "outputs": [
    {
     "name": "stdout",
     "output_type": "stream",
     "text": [
      "Non-zero entries in query_tfidf: 3\n"
     ]
    },
    {
     "ename": "NameError",
     "evalue": "name 'k' is not defined",
     "output_type": "error",
     "traceback": [
      "\u001b[1;31m---------------------------------------------------------------------------\u001b[0m",
      "\u001b[1;31mNameError\u001b[0m                                 Traceback (most recent call last)",
      "Cell \u001b[1;32mIn[29], line 16\u001b[0m\n\u001b[0;32m     14\u001b[0m docs_compressed_normed \u001b[38;5;241m=\u001b[39m normalize(docs_compressed)\n\u001b[0;32m     15\u001b[0m sims \u001b[38;5;241m=\u001b[39m docs_compressed_normed\u001b[38;5;241m.\u001b[39mdot(query_vec)\n\u001b[1;32m---> 16\u001b[0m asort \u001b[38;5;241m=\u001b[39m np\u001b[38;5;241m.\u001b[39margsort(\u001b[38;5;241m-\u001b[39msims)[:k\u001b[38;5;241m+\u001b[39m\u001b[38;5;241m1\u001b[39m]\n\u001b[0;32m     17\u001b[0m \u001b[38;5;28mprint\u001b[39m([(dataframe\u001b[38;5;241m.\u001b[39miloc[i][\u001b[38;5;124m\"\u001b[39m\u001b[38;5;124mname\u001b[39m\u001b[38;5;124m\"\u001b[39m],sims[i]) \u001b[38;5;28;01mfor\u001b[39;00m i \u001b[38;5;129;01min\u001b[39;00m asort[\u001b[38;5;241m1\u001b[39m:]])\n",
      "\u001b[1;31mNameError\u001b[0m: name 'k' is not defined"
     ]
    }
   ],
   "source": [
    "vectorizer = TfidfVectorizer(stop_words = 'english', max_df = .8,\n",
    "                            min_df = 1)\n",
    "td_matrix = vectorizer.fit_transform(kdramas_df[\"synopsis\"])\n",
    "docs_compressed, s, words_compressed = svds(td_matrix, k=40)\n",
    "words_compressed = words_compressed.transpose()\n",
    "td_matrix_np = td_matrix.transpose()\n",
    "td_matrix_np = normalize(td_matrix_np)\n",
    "query = \"guitar word horse\"\n",
    "query_tfidf = vectorizer.transform([query]).toarray()\n",
    "print(\"Non-zero entries in query_tfidf:\", np.count_nonzero(query_tfidf))\n",
    "\n",
    "query_vec = normalize(np.dot(query_tfidf, words_compressed)).squeeze()\n",
    "\n",
    "docs_compressed_normed = normalize(docs_compressed)\n",
    "sims = docs_compressed_normed.dot(query_vec)\n",
    "asort = np.argsort(-sims)\n",
    "print([(kdramas_df.iloc[i][\"name\"],sims[i]) for i in asort[1:]])"
   ]
  }
 ],
 "metadata": {
  "kernelspec": {
   "display_name": "cs4300",
   "language": "python",
   "name": "python3"
  },
  "language_info": {
   "codemirror_mode": {
    "name": "ipython",
    "version": 3
   },
   "file_extension": ".py",
   "mimetype": "text/x-python",
   "name": "python",
   "nbconvert_exporter": "python",
   "pygments_lexer": "ipython3",
   "version": "3.12.9"
  }
 },
 "nbformat": 4,
 "nbformat_minor": 2
}
